{
 "cells": [
  {
   "cell_type": "code",
   "execution_count": 16,
   "metadata": {},
   "outputs": [],
   "source": [
    "import numpy as np\n",
    "import pandas as pd\n",
    "import math\n",
    "import sklearn\n",
    "import matplotlib.pyplot as plt\n",
    "\n",
    "from sklearn.linear_model import LinearRegression\n",
    "from sklearn.model_selection import train_test_split\n",
    "from sklearn.preprocessing import LabelBinarizer\n",
    "from sklearn.metrics import mean_squared_error"
   ]
  },
  {
   "cell_type": "code",
   "execution_count": 17,
   "metadata": {},
   "outputs": [
    {
     "data": {
      "text/html": [
       "<div>\n",
       "<style scoped>\n",
       "    .dataframe tbody tr th:only-of-type {\n",
       "        vertical-align: middle;\n",
       "    }\n",
       "\n",
       "    .dataframe tbody tr th {\n",
       "        vertical-align: top;\n",
       "    }\n",
       "\n",
       "    .dataframe thead th {\n",
       "        text-align: right;\n",
       "    }\n",
       "</style>\n",
       "<table border=\"1\" class=\"dataframe\">\n",
       "  <thead>\n",
       "    <tr style=\"text-align: right;\">\n",
       "      <th></th>\n",
       "      <th>price</th>\n",
       "      <th>mileage</th>\n",
       "      <th>color</th>\n",
       "    </tr>\n",
       "  </thead>\n",
       "  <tbody>\n",
       "    <tr>\n",
       "      <th>0</th>\n",
       "      <td>43.995</td>\n",
       "      <td>36.858</td>\n",
       "      <td>Silver</td>\n",
       "    </tr>\n",
       "    <tr>\n",
       "      <th>1</th>\n",
       "      <td>44.995</td>\n",
       "      <td>46.883</td>\n",
       "      <td>Black</td>\n",
       "    </tr>\n",
       "    <tr>\n",
       "      <th>2</th>\n",
       "      <td>25.999</td>\n",
       "      <td>108.759</td>\n",
       "      <td>White</td>\n",
       "    </tr>\n",
       "    <tr>\n",
       "      <th>3</th>\n",
       "      <td>33.880</td>\n",
       "      <td>35.187</td>\n",
       "      <td>Black</td>\n",
       "    </tr>\n",
       "    <tr>\n",
       "      <th>4</th>\n",
       "      <td>34.895</td>\n",
       "      <td>48.153</td>\n",
       "      <td>Black</td>\n",
       "    </tr>\n",
       "  </tbody>\n",
       "</table>\n",
       "</div>"
      ],
      "text/plain": [
       "    price  mileage   color\n",
       "0  43.995   36.858  Silver\n",
       "1  44.995   46.883   Black\n",
       "2  25.999  108.759   White\n",
       "3  33.880   35.187   Black\n",
       "4  34.895   48.153   Black"
      ]
     },
     "execution_count": 17,
     "metadata": {},
     "output_type": "execute_result"
    }
   ],
   "source": [
    "# read in data, pull out variables of interest and scale quantitative variables\n",
    "cd = pd.read_csv(\"https://bitbucket.org/remcc/rob-data-sets/downloads/susedcars.csv\")\n",
    "cd = cd[['price','mileage','color']]\n",
    "cd['price'] = cd['price']/1000\n",
    "cd['mileage'] = cd['mileage']/1000\n",
    "cd.head()"
   ]
  },
  {
   "cell_type": "code",
   "execution_count": 18,
   "metadata": {},
   "outputs": [
    {
     "name": "stdout",
     "output_type": "stream",
     "text": [
      "train dimension (750, 3)\n",
      "test dimension (250, 3)\n"
     ]
    }
   ],
   "source": [
    "# split into train and test data (75/25 split)\n",
    "cdtr, cdte = train_test_split(cd,random_state=99, test_size=.25)\n",
    "print('train dimension',cdtr.shape)\n",
    "print('test dimension',cdte.shape)"
   ]
  },
  {
   "cell_type": "code",
   "execution_count": 19,
   "metadata": {},
   "outputs": [
    {
     "data": {
      "text/plain": [
       "Text(0, 0.5, 'price')"
      ]
     },
     "execution_count": 19,
     "metadata": {},
     "output_type": "execute_result"
    },
    {
     "data": {
      "image/png": "[encoded data removed]",
      "text/plain": [
       "<Figure size 432x288 with 1 Axes>"
      ]
     },
     "metadata": {
      "needs_background": "light"
     },
     "output_type": "display_data"
    }
   ],
   "source": [
    "# plot training data with mileage and price\n",
    "plt.scatter(cdtr['mileage'],cdtr['price'])\n",
    "plt.xlabel('mileage'); plt.ylabel('price')"
   ]
  },
  {
   "cell_type": "code",
   "execution_count": 20,
   "metadata": {},
   "outputs": [
    {
     "data": {
      "text/plain": [
       "LinearRegression()"
      ]
     },
     "execution_count": 20,
     "metadata": {},
     "output_type": "execute_result"
    }
   ],
   "source": [
    "# LINEAR REGRESSION on just mileage\n",
    "lm1 = LinearRegression(fit_intercept=True)\n",
    "lm1.fit(cdtr[['mileage']],cdtr['price'])"
   ]
  },
  {
   "cell_type": "code",
   "execution_count": 21,
   "metadata": {},
   "outputs": [],
   "source": [
    "# predict on test data\n",
    "yhtest = lm1.predict(cdte[['mileage']])"
   ]
  },
  {
   "cell_type": "code",
   "execution_count": 22,
   "metadata": {},
   "outputs": [
    {
     "data": {
      "text/plain": [
       "Text(0, 0.5, 'price')"
      ]
     },
     "execution_count": 22,
     "metadata": {},
     "output_type": "execute_result"
    },
    {
     "data": {
      "image/png": "[encoded data removed]",
      "text/plain": [
       "<Figure size 432x288 with 1 Axes>"
      ]
     },
     "metadata": {
      "needs_background": "light"
     },
     "output_type": "display_data"
    }
   ],
   "source": [
    "# plot predictions vs actual price with test data\n",
    "yy = np.concatenate([yhtest,cdte['price'].to_numpy()])\n",
    "plt.plot(yy,yy,c='red',linewidth=.8)\n",
    "plt.scatter(yhtest,cdte['price'],c='blue',s=2.5)\n",
    "plt.xlabel('yhtest'); plt.ylabel('price')"
   ]
  },
  {
   "cell_type": "code",
   "execution_count": 23,
   "metadata": {},
   "outputs": [
    {
     "name": "stdout",
     "output_type": "stream",
     "text": [
      "rmse using just mileage is 11.65\n"
     ]
    }
   ],
   "source": [
    "# find rmse with scikit-learn\n",
    "rmse = math.sqrt(mean_squared_error(yhtest,cdte['price']))\n",
    "print(f'rmse using just mileage is {rmse:0.2f}')"
   ]
  },
  {
   "cell_type": "code",
   "execution_count": 24,
   "metadata": {},
   "outputs": [
    {
     "name": "stdout",
     "output_type": "stream",
     "text": [
      "11.647566500771871\n"
     ]
    }
   ],
   "source": [
    "# hard code to check rmse\n",
    "def rmse(y,yh):\n",
    "    return(math.sqrt(np.mean((y-yh)**2)))\n",
    "\n",
    "print(rmse(cdte['price'],yhtest))"
   ]
  },
  {
   "cell_type": "code",
   "execution_count": 25,
   "metadata": {},
   "outputs": [
    {
     "data": {
      "text/plain": [
       "array([[1.        , 0.65067373],\n",
       "       [0.65067373, 1.        ]])"
      ]
     },
     "execution_count": 25,
     "metadata": {},
     "output_type": "execute_result"
    }
   ],
   "source": [
    "# out of sample R-squared\n",
    "np.corrcoef(cdte['price'],yhtest)**2"
   ]
  },
  {
   "cell_type": "code",
   "execution_count": 26,
   "metadata": {},
   "outputs": [
    {
     "name": "stdout",
     "output_type": "stream",
     "text": [
      "644     Black\n",
      "389     Black\n",
      "999     other\n",
      "125     Black\n",
      "792    Silver\n",
      "464    Silver\n",
      "676     other\n",
      "606     White\n",
      "319    Silver\n",
      "466     Black\n",
      "Name: color, dtype: object\n"
     ]
    },
    {
     "data": {
      "text/plain": [
       "array([[1, 0, 0, 0],\n",
       "       [1, 0, 0, 0],\n",
       "       [0, 0, 0, 1],\n",
       "       [1, 0, 0, 0],\n",
       "       [0, 1, 0, 0],\n",
       "       [0, 1, 0, 0],\n",
       "       [0, 0, 0, 1],\n",
       "       [0, 0, 1, 0],\n",
       "       [0, 1, 0, 0],\n",
       "       [1, 0, 0, 0]])"
      ]
     },
     "execution_count": 26,
     "metadata": {},
     "output_type": "execute_result"
    }
   ],
   "source": [
    "# create dummy variables for color\n",
    "one_hot = LabelBinarizer()\n",
    "cdumtr = one_hot.fit_transform(cdtr['color'])\n",
    "cdumte = one_hot.fit_transform(cdte['color'])\n",
    "print(cdtr['color'][:10])\n",
    "cdumtr[:10]"
   ]
  },
  {
   "cell_type": "code",
   "execution_count": 27,
   "metadata": {},
   "outputs": [
    {
     "data": {
      "text/plain": [
       "array([[ 47.894,   0.   ,   0.   ,   0.   ],\n",
       "       [ 27.295,   0.   ,   0.   ,   0.   ],\n",
       "       [131.121,   0.   ,   0.   ,   1.   ],\n",
       "       [ 12.097,   0.   ,   0.   ,   0.   ],\n",
       "       [109.609,   1.   ,   0.   ,   0.   ]])"
      ]
     },
     "execution_count": 27,
     "metadata": {},
     "output_type": "execute_result"
    }
   ],
   "source": [
    "# create train and test arrays for encoded color and mileage variables\n",
    "Xctr = np.hstack([cdtr.iloc[:,[1]].to_numpy(),cdumtr[:,1:4]])\n",
    "Xcte = np.hstack([cdte.iloc[:,[1]].to_numpy(),cdumte[:,1:4]])\n",
    "Xctr[:5]"
   ]
  },
  {
   "cell_type": "code",
   "execution_count": 28,
   "metadata": {},
   "outputs": [],
   "source": [
    "# linear gression with two variables, color and mileage, and get predictions\n",
    "lm2 = LinearRegression(fit_intercept=True)\n",
    "lm2.fit(Xctr,cdtr['price'])\n",
    "yhtest = lm2.predict(Xcte)"
   ]
  },
  {
   "cell_type": "code",
   "execution_count": 29,
   "metadata": {},
   "outputs": [
    {
     "name": "stdout",
     "output_type": "stream",
     "text": [
      "intercept: 57.21245645145676\n",
      "slopes: [-0.34247931 -4.43507734 -0.38043861 -3.4692273 ]\n"
     ]
    }
   ],
   "source": [
    "#coefficients and intercept for linear regression equation\n",
    "print('intercept:',lm2.intercept_)\n",
    "print('slopes:',lm2.coef_)"
   ]
  },
  {
   "cell_type": "code",
   "execution_count": 30,
   "metadata": {},
   "outputs": [
    {
     "data": {
      "text/plain": [
       "Text(0, 0.5, 'predictions using mileage and color')"
      ]
     },
     "execution_count": 30,
     "metadata": {},
     "output_type": "execute_result"
    },
    {
     "data": {
      "image/png": "[encoded data removed]",
      "text/plain": [
       "<Figure size 432x288 with 1 Axes>"
      ]
     },
     "metadata": {
      "needs_background": "light"
     },
     "output_type": "display_data"
    }
   ],
   "source": [
    "# plot predictions vs mileage\n",
    "plt.scatter(cdte['mileage'],yhtest,s=2.0)\n",
    "plt.xlabel('mileage'); plt.ylabel('predictions using mileage and color')"
   ]
  },
  {
   "cell_type": "code",
   "execution_count": 31,
   "metadata": {},
   "outputs": [
    {
     "name": "stdout",
     "output_type": "stream",
     "text": [
      "rmse using mileage and color is 11.39\n"
     ]
    }
   ],
   "source": [
    "# check out of sample rmse\n",
    "rmse = math.sqrt(mean_squared_error(yhtest,cdte['price']))\n",
    "print(f'rmse using mileage and color is {rmse:0.2f}')"
   ]
  },
  {
   "cell_type": "code",
   "execution_count": 32,
   "metadata": {},
   "outputs": [
    {
     "data": {
      "text/plain": [
       "<matplotlib.collections.PathCollection at 0x7f81216f78e0>"
      ]
     },
     "execution_count": 32,
     "metadata": {},
     "output_type": "execute_result"
    },
    {
     "data": {
      "image/png": "[encoded data removed]",
      "text/plain": [
       "<Figure size 432x288 with 1 Axes>"
      ]
     },
     "metadata": {
      "needs_background": "light"
     },
     "output_type": "display_data"
    }
   ],
   "source": [
    "#log transform y to remove negative prices\n",
    "lprice = np.log(cdtr['price'])\n",
    "plt.scatter(cdtr['mileage'],lprice)"
   ]
  },
  {
   "cell_type": "code",
   "execution_count": 33,
   "metadata": {},
   "outputs": [
    {
     "data": {
      "text/plain": [
       "[<matplotlib.lines.Line2D at 0x7f812184ebe0>]"
      ]
     },
     "execution_count": 33,
     "metadata": {},
     "output_type": "execute_result"
    },
    {
     "data": {
      "image/png": "[encoded data removed]",
      "text/plain": [
       "<Figure size 432x288 with 1 Axes>"
      ]
     },
     "metadata": {
      "needs_background": "light"
     },
     "output_type": "display_data"
    }
   ],
   "source": [
    "# do linear regression and predictions with log model\n",
    "lm3 = LinearRegression(fit_intercept=True)\n",
    "lm3.fit(cdtr[['mileage']],lprice)\n",
    "\n",
    "lyhat = lm3.predict(cdte[['mileage']])\n",
    "yhat = np.exp(lyhat)\n",
    "plt.scatter(cdte['price'],yhat)\n",
    "plt.plot(yhat,yhat,c='red')"
   ]
  },
  {
   "cell_type": "code",
   "execution_count": 34,
   "metadata": {},
   "outputs": [
    {
     "data": {
      "text/plain": [
       "Text(0, 0.5, 'price')"
      ]
     },
     "execution_count": 34,
     "metadata": {},
     "output_type": "execute_result"
    },
    {
     "data": {
      "image/png": "[encoded data removed]",
      "text/plain": [
       "<Figure size 432x288 with 1 Axes>"
      ]
     },
     "metadata": {
      "needs_background": "light"
     },
     "output_type": "display_data"
    }
   ],
   "source": [
    "# add a quadratic term for mileage to regression for comparison\n",
    "Xq = np.column_stack([cdtr['mileage'],cdtr['mileage']**2])\n",
    "lm4 = LinearRegression(fit_intercept=True)\n",
    "lm4.fit(Xq,cdtr['price'])\n",
    "yhat = lm4.predict(Xq)\n",
    "\n",
    "plt.scatter(cdtr['mileage'],cdtr['price'],marker='o',c='black',s=.9)\n",
    "plt.scatter(cdtr['mileage'],yhat,marker=5,c='red',s=.9)\n",
    "plt.xlabel('mileage'); plt.ylabel('price')"
   ]
  }
 ],
 "metadata": {
  "interpreter": {
   "hash": "3ac614b7292d6b750fa471ddd8d659c20ea6a441794295d680b0164a5cc793b4"
  },
  "kernelspec": {
   "display_name": "Python 3.9.7 64-bit ('sklearn-env': conda)",
   "language": "python",
   "name": "python3"
  },
  "language_info": {
   "codemirror_mode": {
    "name": "ipython",
    "version": 3
   },
   "file_extension": ".py",
   "mimetype": "text/x-python",
   "name": "python",
   "nbconvert_exporter": "python",
   "pygments_lexer": "ipython3",
   "version": "3.9.2"
  },
  "orig_nbformat": 4
 },
 "nbformat": 4,
 "nbformat_minor": 2
}
