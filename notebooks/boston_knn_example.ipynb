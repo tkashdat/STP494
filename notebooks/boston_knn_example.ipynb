{
 "cells": [
  {
   "cell_type": "code",
   "execution_count": null,
   "metadata": {},
   "outputs": [],
   "source": [
    "\n",
    "# import\n",
    "\n",
    "# basic \n",
    "import numpy as np\n",
    "import scipy\n",
    "import pandas as pd\n",
    "import math\n",
    "\n",
    "import matplotlib.pyplot as plt\n",
    "plt.style.use('seaborn')\n",
    "\n",
    "# there also is a module on preprocessing in sklearn\n",
    "\n",
    "##sklearn learners (learners as the different types of models)\n",
    "from sklearn.linear_model import LinearRegression\n",
    "from sklearn.naive_bayes import GaussianNB\n",
    "from sklearn.neighbors import KNeighborsClassifier\n",
    "from sklearn.neighbors import KNeighborsRegressor\n",
    "\n",
    "##sklearn metrics\n",
    "from sklearn.metrics import accuracy_score\n",
    "from sklearn.metrics import mean_squared_error\n",
    "from sklearn.metrics import confusion_matrix\n",
    "\n",
    "##sklearn model selection\n",
    "from sklearn.model_selection import train_test_split\n",
    "from sklearn.model_selection import cross_val_score\n",
    "from sklearn.model_selection import validation_curve\n",
    "from sklearn.model_selection import GridSearchCV"
   ]
  },
  {
   "cell_type": "code",
   "execution_count": null,
   "metadata": {},
   "outputs": [],
   "source": [
    "# read in boston data\n",
    "bd = pd.read_csv(\"https://bitbucket.org/remcc/rob-data-sets/downloads/Boston.csv\")\n",
    "\n",
    "#pull off y=medv and x = lstat\n",
    "y = bd['medv']\n",
    "X = bd['lstat'].to_numpy()[:,np.newaxis]\n",
    "\n",
    "#plot x vs. y\n",
    "plt.scatter(X,y)\n",
    "plt.xlabel('lstat')\n",
    "plt.ylabel('mdev')"
   ]
  },
  {
   "cell_type": "code",
   "execution_count": null,
   "metadata": {},
   "outputs": [],
   "source": [
    "# fit one knn\n",
    "\n",
    "# create model object setting the hyperparameter n_neighbors to 50\n",
    "knnmod = KNeighborsRegressor(n_neighbors=50)\n",
    "\n",
    "# fit with training data\n",
    "knnmod.fit(X,y)\n",
    "\n",
    "#predict on sorted x training values\n",
    "Xtest = np.sort(X[:,0])[:,np.newaxis]\n",
    "yhat = knnmod.predict(Xtest)"
   ]
  },
  {
   "cell_type": "code",
   "execution_count": null,
   "metadata": {},
   "outputs": [],
   "source": [
    "#plot fit\n",
    "plt.scatter(X,y,s=10,c='k',marker='.')\n",
    "plt.plot(Xtest,yhat,c='red')\n",
    "plt.xlabel('lstat')\n",
    "plt.ylabel('medv')"
   ]
  },
  {
   "cell_type": "code",
   "execution_count": null,
   "metadata": {},
   "outputs": [],
   "source": [
    "#  cross validation using sklearn cross_val_score\n",
    "\n",
    "# to see a list of scorers:\n",
    "# sorted(sklearn.metrics.SCORERS.keys()) \n",
    "\n",
    "#model object\n",
    "tempmod = KNeighborsRegressor(n_neighbors=40) #knn with k=40\n",
    "\n",
    "## rmse from cross validation\n",
    "cvres = cross_val_score(tempmod,X,y,cv=5,scoring='neg_mean_squared_error') #cross val with 5 folds"
   ]
  },
  {
   "cell_type": "code",
   "execution_count": null,
   "metadata": {},
   "outputs": [],
   "source": [
    "# train/test split\n",
    "\n",
    "#train/test split\n",
    "myseed = 34\n",
    "Xtrain, Xtest, ytrain, ytest = train_test_split(X,y,random_state=myseed, test_size=.2)\n",
    "\n",
    "# model object\n",
    "kmod = KNeighborsRegressor(n_neighbors=50)\n",
    "\n",
    "# fit on train\n",
    "kmod.fit(Xtrain,ytrain)\n",
    "\n",
    "# predict on test\n",
    "ypred = kmod.predict(Xtest)"
   ]
  },
  {
   "cell_type": "code",
   "execution_count": null,
   "metadata": {},
   "outputs": [],
   "source": [
    "# tranform to rmse\n",
    "rmse = math.sqrt(np.mean(-cvres)) \n",
    "print('the rmse for k=40 based on 5-fold is:', rmse)"
   ]
  },
  {
   "cell_type": "code",
   "execution_count": null,
   "metadata": {},
   "outputs": [],
   "source": [
    "#  loop over k using simple train/test split\n",
    "\n",
    "Xtrain, Xtest, ytrain, ytest = train_test_split(X,y,random_state=myseed, test_size=.2)\n",
    "\n",
    "kvec = np.arange(348) + 2 #values of k to try\n",
    "ormsev = np.zeros(len(kvec)) # storage for oos rsmse\n",
    "irmsev = np.zeros(len(kvec)) # storage for in-sample rsmse\n",
    "\n",
    "for i in range(len(kvec)):\n",
    "   tmod = KNeighborsRegressor(n_neighbors=kvec[i])\n",
    "   tmod.fit(Xtrain,ytrain)\n",
    "   yhat = tmod.predict(Xtest)\n",
    "   ormsev[i] = math.sqrt(mean_squared_error(ytest,yhat))\n",
    "   yhat = tmod.predict(Xtrain)\n",
    "   irmsev[i] = math.sqrt(mean_squared_error(ytrain,yhat))"
   ]
  },
  {
   "cell_type": "code",
   "execution_count": null,
   "metadata": {},
   "outputs": [],
   "source": [
    "# plot rmse vs k\n",
    "plt.scatter(kvec,ormsev,c='blue',label='out-of-sample')\n",
    "plt.plot(kvec,irmsev,c='red',label='in-sample')\n",
    "plt.xlabel('k'); plt.ylabel('rmse')\n",
    "plt.legend()"
   ]
  },
  {
   "cell_type": "code",
   "execution_count": null,
   "metadata": {},
   "outputs": [],
   "source": [
    "# plot rmse vs model complexity\n",
    "mcmp = np.log(1/kvec) #model complexity\n",
    "plt.scatter(mcmp,ormsev,c='blue',label='out-of-sample')\n",
    "plt.plot(mcmp,irmsev,c='red',label='in-sample')\n",
    "plt.xlabel('model complexity = log(1/k)',size='x-large')\n",
    "plt.ylabel('rmse',size='x-large')\n",
    "plt.title('rmse: blue: out of sample, red: in sample',size='x-large')\n",
    "plt.legend()"
   ]
  },
  {
   "cell_type": "code",
   "execution_count": null,
   "metadata": {},
   "outputs": [],
   "source": [
    "\n",
    "#  cross validation using sklearn cross_val_score\n",
    "\n",
    "# to see a list of scorers:\n",
    "# sorted(sklearn.metrics.SCORERS.keys()) \n",
    "\n",
    "#model object\n",
    "tempmod = KNeighborsRegressor(n_neighbors=40) #knn with k=40\n",
    "\n",
    "## rmse from cross validation\n",
    "cvres = cross_val_score(tempmod,X,y,cv=5,scoring='neg_mean_squared_error') #cross val with 5 folds\n",
    "\n",
    "# tranform to rmse\n",
    "rmse = math.sqrt(np.mean(-cvres)) \n",
    "print('the rmse for k=40 based on 5-fold is:', rmse)\n",
    "\n",
    "## do it again but shuffle the data\n",
    "np.random.seed(34) \n",
    "indices = np.random.choice(X.shape[0],X.shape[0],replace=False)\n",
    "ys = y[indices]\n",
    "Xs = X[indices,:]\n",
    "cvres = cross_val_score(tempmod,Xs,ys,cv=5,scoring='neg_mean_squared_error')\n",
    "rmse = math.sqrt(np.mean(-cvres))\n",
    "print('the rmse for k=40 based on 5-fold is:', rmse)"
   ]
  },
  {
   "cell_type": "code",
   "execution_count": null,
   "metadata": {},
   "outputs": [],
   "source": [
    "\n",
    "#  cross validation on a grid of k values using sklearn validation_curve function\n",
    "\n",
    "# create the knn model\n",
    "model = KNeighborsRegressor() # create the knn model\n",
    "\n",
    "# do cv at every value of k in kvec\n",
    "# each row of (trains,test)S will correspond to a value of k\n",
    "# each column has the cv=10 neg_mean_squared_error in-sample (trainS) and out of sample (testS)\n",
    "trainS, testS = validation_curve(model,X,y,'n_neighbors',kvec,cv=10,scoring='neg_mean_squared_error')\n",
    "\n",
    "# transform neg_mean_squared_error to rmse\n",
    "trrmse = np.sqrt(-trainS.mean(axis=1))\n",
    "termse = np.sqrt(-testS.mean(axis=1))"
   ]
  },
  {
   "cell_type": "code",
   "execution_count": null,
   "metadata": {},
   "outputs": [],
   "source": [
    "#plot in and out of sample rmse\n",
    "plt.scatter(mcmp,termse,label='in-sample')\n",
    "plt.plot(mcmp,trrmse,c='red',label='out-of-sample')\n",
    "plt.xlabel('model complexity = log(1/k)',size='x-large')\n",
    "plt.ylabel('rmse',size='x-large')\n",
    "plt.legend()"
   ]
  },
  {
   "cell_type": "code",
   "execution_count": null,
   "metadata": {},
   "outputs": [],
   "source": [
    "#plot to check predictions\n",
    "plt.scatter(ytest,ypred)\n",
    "plt.plot(ypred,ypred,c='red')"
   ]
  },
  {
   "cell_type": "code",
   "execution_count": null,
   "metadata": {},
   "outputs": [],
   "source": [
    "#rmse\n",
    "k50mse = mean_squared_error(ytest,ypred)\n",
    "\n",
    "#check rmse\n",
    "check  = np.sum((ypred-ytest)**2)/len(ytest)\n",
    "print('val from fun:',k50mse,' and check val: ',check)"
   ]
  },
  {
   "cell_type": "code",
   "execution_count": null,
   "metadata": {},
   "outputs": [],
   "source": [
    "# cross val on a grid using sklearn GridSearchCV\n",
    "\n",
    "# hyperparamter values to try in the gid search, can expand dict to more than one tuning parameter\n",
    "param_grid={'n_neighbors' : kvec} # searching over n_nerighbors and trying its value kvec\n",
    "\n",
    "# grid  is the grid searh object\n",
    "grid = GridSearchCV(model,param_grid,cv=10,scoring='neg_mean_squared_error')\n",
    "\n",
    "# now run the grid search\n",
    "grid.fit(X,y)\n",
    "\n",
    "grid.best_params_ #best value from grid\n",
    "grid.best_index_ # index of best value from grid\n",
    "\n",
    "#check\n",
    "print(kvec[grid.best_index_])\n",
    "\n",
    "temp = grid.cv_results_ # results from the grid search (a dictionary)\n",
    "print(temp.keys()) # what is in temp\n",
    "temp['mean_test_score'] # this is the average score over folds at the values in param_grid\n",
    "\n",
    "#transform to rmse (notice the negative sign in order to get positive value)\n",
    "rmsevals = np.sqrt(-temp['mean_test_score'])"
   ]
  },
  {
   "cell_type": "code",
   "execution_count": null,
   "metadata": {},
   "outputs": [],
   "source": [
    "# plot\n",
    "plt.plot(mcmp,rmsevals) # plot model complexity vs. rmse\n",
    "plt.xlabel('model complexity = log(1/k)',size='x-large')\n",
    "plt.ylabel('rmse',size='x-large')\n",
    "plt.title('rmse from GridSearch')"
   ]
  }
 ],
 "metadata": {
  "interpreter": {
   "hash": "8f6a3a1f00eb99144ee0c31971b4748796ceb05c912001be705be3f8f8bff0ef"
  },
  "kernelspec": {
   "display_name": "Python 3.9.2 ('data-science-env')",
   "language": "python",
   "name": "python3"
  },
  "language_info": {
   "codemirror_mode": {
    "name": "ipython",
    "version": 3
   },
   "file_extension": ".py",
   "mimetype": "text/x-python",
   "name": "python",
   "nbconvert_exporter": "python",
   "pygments_lexer": "ipython3",
   "version": "3.9.2"
  },
  "orig_nbformat": 4
 },
 "nbformat": 4,
 "nbformat_minor": 2
}
